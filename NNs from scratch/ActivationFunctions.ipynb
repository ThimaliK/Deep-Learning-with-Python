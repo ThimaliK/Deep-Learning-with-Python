{
 "cells": [
  {
   "cell_type": "code",
   "execution_count": 5,
   "metadata": {},
   "outputs": [
    {
     "name": "stdout",
     "output_type": "stream",
     "text": [
      "[0, 2, 0, 3.3, 0, 1.1, 2.2, 0]\n"
     ]
    }
   ],
   "source": [
    "import numpy as np\n",
    "import nnfs\n",
    "from nnfs.datasets import spiral_data\n",
    "\n",
    "nnfs.init()\n",
    "\n",
    "X = [[1, 2, 3, 2.5],\n",
    "     [2.0 ,5.0, -1.0, 2.0],\n",
    "     [-1.5, 2.7, 3.3, -0.8]]\n",
    "\n",
    "inputs = [0, 2, -1, 3.3, -2.7, 1.1, 2.2 , -100]\n",
    "output = []\n",
    "\n",
    "# for i in inputs:\n",
    "#     if i > 0:\n",
    "#         output.append(i)\n",
    "#     else:\n",
    "#         output.append(0)\n",
    "\n",
    "# print(output)\n",
    "\n",
    "for i in inputs:\n",
    "    output.append(max(i, 0))\n",
    "    \n",
    "print(output)"
   ]
  },
  {
   "cell_type": "code",
   "execution_count": 6,
   "metadata": {},
   "outputs": [],
   "source": [
    "import numpy as np\n",
    "np.random.seed(0)\n",
    "\n",
    "class Layer_Dense:\n",
    "    \n",
    "    def __init__(self, n_inputs, n_neurons):\n",
    "        self.weights = 0.10 * np.random.randn(n_inputs, n_neurons)\n",
    "        self.biases = np.zeros((1, n_neurons))\n",
    "    \n",
    "    def forward(self, inputs):\n",
    "        self.output = np.dot(inputs, self.weights) + self.biases"
   ]
  },
  {
   "cell_type": "code",
   "execution_count": 12,
   "metadata": {},
   "outputs": [],
   "source": [
    "# ReLU object\n",
    "\n",
    "class Activation_ReLU:\n",
    "    \n",
    "    def forward(self, inputs):\n",
    "        self.output = np.maximum(0, inputs)"
   ]
  },
  {
   "cell_type": "code",
   "execution_count": 13,
   "metadata": {},
   "outputs": [
    {
     "name": "stdout",
     "output_type": "stream",
     "text": [
      "[[0.00000000e+00 0.00000000e+00 0.00000000e+00 0.00000000e+00\n",
      "  0.00000000e+00]\n",
      " [1.09401403e-03 0.00000000e+00 5.44815011e-05 0.00000000e+00\n",
      "  1.08153711e-03]\n",
      " [2.54851626e-03 0.00000000e+00 6.44959393e-04 0.00000000e+00\n",
      "  1.70287909e-03]\n",
      " ...\n",
      " [0.00000000e+00 1.01028346e-02 0.00000000e+00 1.83435336e-01\n",
      "  4.14110022e-03]\n",
      " [2.03050897e-02 0.00000000e+00 0.00000000e+00 7.49492869e-02\n",
      "  1.14854544e-01]\n",
      " [0.00000000e+00 5.57141844e-03 0.00000000e+00 1.82335272e-01\n",
      "  4.12516221e-02]]\n"
     ]
    }
   ],
   "source": [
    "X, y = spiral_data(100, 3)\n",
    "\n",
    "layer_1 = Layer_Dense(2, 5)\n",
    "activation1 = Activation_ReLU()\n",
    "\n",
    "layer_1.forward(X)\n",
    "# print(layer_1.output)\n",
    "\n",
    "activation1.forward(layer_1.output)\n",
    "print(activation1.output)"
   ]
  },
  {
   "cell_type": "code",
   "execution_count": null,
   "metadata": {},
   "outputs": [],
   "source": []
  }
 ],
 "metadata": {
  "kernelspec": {
   "display_name": "Python 3",
   "language": "python",
   "name": "python3"
  },
  "language_info": {
   "codemirror_mode": {
    "name": "ipython",
    "version": 3
   },
   "file_extension": ".py",
   "mimetype": "text/x-python",
   "name": "python",
   "nbconvert_exporter": "python",
   "pygments_lexer": "ipython3",
   "version": "3.8.3"
  }
 },
 "nbformat": 4,
 "nbformat_minor": 4
}
